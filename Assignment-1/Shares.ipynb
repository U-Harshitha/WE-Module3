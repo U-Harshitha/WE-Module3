{
  "nbformat": 4,
  "nbformat_minor": 0,
  "metadata": {
    "colab": {
      "provenance": [],
      "authorship_tag": "ABX9TyNpks4IlcC5BqRSnbvDM3O8",
      "include_colab_link": true
    },
    "kernelspec": {
      "name": "python3",
      "display_name": "Python 3"
    },
    "language_info": {
      "name": "python"
    }
  },
  "cells": [
    {
      "cell_type": "markdown",
      "metadata": {
        "id": "view-in-github",
        "colab_type": "text"
      },
      "source": [
        "<a href=\"https://colab.research.google.com/github/U-Harshitha/WE-Module3/blob/main/Assignment-1/Shares.ipynb\" target=\"_parent\"><img src=\"https://colab.research.google.com/assets/colab-badge.svg\" alt=\"Open In Colab\"/></a>"
      ]
    },
    {
      "cell_type": "code",
      "source": [
        "def fair_rations(arr):\n",
        "    n = len(arr)\n",
        "    dp = [[float('inf')] * 2 for _ in range(n + 1)]\n",
        "    dp[0][0] = 0\n",
        "    dp[0][1] = float('inf')\n",
        "\n",
        "    for i in range(1, n + 1):\n",
        "        if arr[i - 1] % 2 == 0:\n",
        "            dp[i][0] = dp[i - 1][0]\n",
        "            dp[i][1] = dp[i - 1][1] + 1\n",
        "        else:\n",
        "            dp[i][0] = dp[i - 1][0] + 1\n",
        "            dp[i][1] = dp[i - 1][1]\n",
        "\n",
        "    if arr[n - 1] % 2 == 0:\n",
        "        return dp[n][0]\n",
        "    else:\n",
        "        return \"NO\"\n",
        "\n",
        "# Example usage:\n",
        "line = [4, 5, 6, 7]\n",
        "result = fair_rations(line)\n",
        "print(result)  # Output: 4\n"
      ],
      "metadata": {
        "colab": {
          "base_uri": "https://localhost:8080/"
        },
        "id": "nrWx-lU-3GKF",
        "outputId": "f4a92f7b-36e5-4a6d-f912-b051447a7b7f"
      },
      "execution_count": 4,
      "outputs": [
        {
          "output_type": "stream",
          "name": "stdout",
          "text": [
            "NO\n"
          ]
        }
      ]
    },
    {
      "cell_type": "code",
      "execution_count": 1,
      "metadata": {
        "colab": {
          "base_uri": "https://localhost:8080/"
        },
        "id": "6weW9hNe1w3f",
        "outputId": "9feeff5a-007b-4b20-dfb9-fcc55a3d340c"
      },
      "outputs": [
        {
          "output_type": "stream",
          "name": "stdout",
          "text": [
            "4\n"
          ]
        }
      ],
      "source": [
        "def fair_rations(B):\n",
        "    ans = 0\n",
        "    for i in range(len(B) - 1):\n",
        "        if B[i] & 1:\n",
        "            B[i + 1] += 1\n",
        "            ans += 2\n",
        "\n",
        "    # Check if the last person has an even number of loaves\n",
        "    if B[-1] & 1:\n",
        "        return \"NO\"\n",
        "    else:\n",
        "        return ans\n",
        "\n",
        "# Example usage:\n",
        "line = [4, 5, 6, 7]\n",
        "result = fair_rations(line)\n",
        "print(result)  # Output: 4\n"
      ]
    },
    {
      "cell_type": "code",
      "source": [
        "def fair_rations_recursive(B, idx=0, ans=0):\n",
        "    if idx == len(B) - 1:\n",
        "        # Check if the last person has an even number of loaves\n",
        "        if B[-1] & 1:\n",
        "            return -1  # Fair distribution is not possible\n",
        "        else:\n",
        "            return ans\n",
        "\n",
        "    # If the current person has an odd number of loaves, distribute loaves\n",
        "    if B[idx] & 1:\n",
        "        B[idx] += 1\n",
        "        B[idx + 1] += 1\n",
        "        ans += 2\n",
        "\n",
        "    # Recursively call the function for the next person\n",
        "    return fair_rations_recursive(B, idx + 1, ans)\n",
        "\n",
        "# Example usage:\n",
        "line = [4, 5, 6, 7]\n",
        "result = fair_rations_recursive(line)\n",
        "if result == -1:\n",
        "    print(\"NO\")\n",
        "else:\n",
        "    print(result)  # Output: 4\n"
      ],
      "metadata": {
        "colab": {
          "base_uri": "https://localhost:8080/"
        },
        "id": "iyWrx07Q26cX",
        "outputId": "ba977709-772d-43ba-d3bf-12bd1c01a109"
      },
      "execution_count": 2,
      "outputs": [
        {
          "output_type": "stream",
          "name": "stdout",
          "text": [
            "4\n"
          ]
        }
      ]
    },
    {
      "cell_type": "code",
      "source": [
        "def fair_rations_recursive(B, idx=0):\n",
        "    if idx == len(B) - 1:\n",
        "        # Check if the last person has an even number of loaves\n",
        "        return B[-1] % 2 == 0\n",
        "\n",
        "    # If the current person has an odd number of loaves, distribute loaves\n",
        "    if B[idx] % 2 != 0:\n",
        "        B[idx] += 1\n",
        "        B[idx + 1] += 1\n",
        "\n",
        "    # Recursively call the function for the next person\n",
        "    return fair_rations_recursive(B, idx + 1)\n",
        "\n",
        "# Example usage:\n",
        "line = [4, 5, 6, 7]\n",
        "result = fair_rations_recursive(line)\n",
        "if result:\n",
        "    print(sum(1 for loaf in line if loaf % 2 != 0) * 2)  # Output: 4\n",
        "else:\n",
        "    print(\"NO\")\n"
      ],
      "metadata": {
        "colab": {
          "base_uri": "https://localhost:8080/"
        },
        "id": "HZqW5ZhR28ca",
        "outputId": "e25839cf-87fe-44ea-c6e7-f6e42aa47625"
      },
      "execution_count": 3,
      "outputs": [
        {
          "output_type": "stream",
          "name": "stdout",
          "text": [
            "0\n"
          ]
        }
      ]
    },
    {
      "cell_type": "code",
      "source": [],
      "metadata": {
        "id": "f-mBqCn12_tH"
      },
      "execution_count": null,
      "outputs": []
    }
  ]
}